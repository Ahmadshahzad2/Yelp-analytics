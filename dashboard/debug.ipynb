{
 "cells": [
  {
   "cell_type": "code",
   "execution_count": 4,
   "metadata": {},
   "outputs": [
    {
     "name": "stdout",
     "output_type": "stream",
     "text": [
      "Model and vectorizer loaded successfully!\n",
      "                                              Review Sentiment\n",
      "0  The food was amazing and the service was excel...  positive\n",
      "1   The experience was okay, but I wouldn’t go back.  negative\n",
      "2  Terrible service and the food was cold. Never ...  negative\n"
     ]
    }
   ],
   "source": [
    "import pickle\n",
    "import pandas as pd\n",
    "from nltk.tokenize import word_tokenize\n",
    "from nltk.corpus import stopwords\n",
    "from sklearn.feature_extraction.text import TfidfVectorizer\n",
    "\n",
    "# Preprocessing function (same as used in training)\n",
    "def preprocess_text(text):\n",
    "    try:\n",
    "        tokens = word_tokenize(text)\n",
    "        stop_words = set(stopwords.words('english'))\n",
    "        tokens = [word for word in tokens if word.lower() not in stop_words]\n",
    "        return ' '.join(tokens)\n",
    "    except Exception as e:\n",
    "        print(f\"Error processing text: {e}\")\n",
    "        return text  # Return the original text in case of an error\n",
    "\n",
    "# Load the saved model and vectorizer\n",
    "def load_model_and_vectorizer(model_path='../models/logistic_regression_model.pkl', vectorizer_path='../models/tfidf_vectorizer.pkl'):\n",
    "    try:\n",
    "        with open(model_path, 'rb') as model_file:\n",
    "            model = pickle.load(model_file)\n",
    "        with open(vectorizer_path, 'rb') as vectorizer_file:\n",
    "            vectorizer = pickle.load(vectorizer_file)\n",
    "        print(\"Model and vectorizer loaded successfully!\")\n",
    "        return model, vectorizer\n",
    "    except Exception as e:\n",
    "        print(f\"Error loading model or vectorizer: {e}\")\n",
    "        raise\n",
    "\n",
    "# Predict sentiment\n",
    "def predict_sentiment(reviews, model, vectorizer):\n",
    "    # Preprocess the reviews\n",
    "    processed_reviews = [preprocess_text(review) for review in reviews]\n",
    "\n",
    "    # Transform the preprocessed reviews using the loaded vectorizer\n",
    "    tfidf_matrix = vectorizer.transform(processed_reviews)\n",
    "\n",
    "    # Make predictions\n",
    "    sentiments = model.predict(tfidf_matrix)\n",
    "\n",
    "    # Return predictions as a DataFrame\n",
    "    return pd.DataFrame({\n",
    "        'Review': reviews,\n",
    "        'Sentiment': sentiments\n",
    "    })\n",
    "\n",
    "# Example usage\n",
    "if __name__ == \"__main__\":\n",
    "    # Load the model and vectorizer\n",
    "    model, vectorizer = load_model_and_vectorizer()\n",
    "\n",
    "    # Example list of reviews for prediction\n",
    "    example_reviews = [\n",
    "        \"The food was amazing and the service was excellent!\",\n",
    "        \"The experience was okay, but I wouldn’t go back.\",\n",
    "        \"Terrible service and the food was cold. Never coming back!\"\n",
    "    ]\n",
    "\n",
    "    # Predict sentiments\n",
    "    predictions = predict_sentiment(example_reviews, model, vectorizer)\n",
    "\n",
    "    # Display predictions\n",
    "    print(predictions)"
   ]
  },
  {
   "cell_type": "code",
   "execution_count": null,
   "metadata": {},
   "outputs": [],
   "source": []
  }
 ],
 "metadata": {
  "kernelspec": {
   "display_name": "adsc_3610",
   "language": "python",
   "name": "python3"
  },
  "language_info": {
   "name": "python",
   "version": "3.12.5"
  }
 },
 "nbformat": 4,
 "nbformat_minor": 2
}
